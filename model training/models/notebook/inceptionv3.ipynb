{
  "nbformat": 4,
  "nbformat_minor": 0,
  "metadata": {
    "accelerator": "GPU",
    "colab": {
      "name": "inceptionv3.ipynb",
      "provenance": [],
      "collapsed_sections": [],
      "toc_visible": true
    },
    "kernelspec": {
      "display_name": "Python 3",
      "name": "python3"
    },
    "language_info": {
      "name": "python"
    }
  },
  "cells": [
    {
      "cell_type": "markdown",
      "metadata": {
        "id": "XwtL65ZbBbWX"
      },
      "source": [
        "## loading training and test data"
      ]
    },
    {
      "cell_type": "code",
      "metadata": {
        "id": "ZcGfY2hiAZ3q"
      },
      "source": [
        "import numpy as np \n",
        "import pandas as pd \n",
        "import os"
      ],
      "execution_count": 50,
      "outputs": []
    },
    {
      "cell_type": "code",
      "metadata": {
        "colab": {
          "base_uri": "https://localhost:8080/"
        },
        "id": "yGoOQYJRAeUU",
        "outputId": "05596f37-b9c5-456d-893e-2ad8e240df46"
      },
      "source": [
        "path = \"/content/mammuka-lalettan\"\n",
        "os.listdir(path)"
      ],
      "execution_count": 51,
      "outputs": [
        {
          "output_type": "execute_result",
          "data": {
            "text/plain": [
              "['train', 'test']"
            ]
          },
          "metadata": {
            "tags": []
          },
          "execution_count": 51
        }
      ]
    },
    {
      "cell_type": "code",
      "metadata": {
        "colab": {
          "base_uri": "https://localhost:8080/"
        },
        "id": "vU9OIEWOAj9G",
        "outputId": "e63c11a2-647e-425c-d34e-d21c993b8363"
      },
      "source": [
        "train_path = os.path.join(\"/content/mammuka-lalettan\", \"train\")\n",
        "print(os.listdir(train_path))\n",
        "print(\"=\"*100)\n",
        "test_path = os.path.join(\"/content/mammuka-lalettan\", \"test\")\n",
        "print(os.listdir(test_path))"
      ],
      "execution_count": 78,
      "outputs": [
        {
          "output_type": "stream",
          "text": [
            "['mammuka', 'lalettan']\n",
            "====================================================================================================\n",
            "['mammuka', 'lalettan']\n"
          ],
          "name": "stdout"
        }
      ]
    },
    {
      "cell_type": "markdown",
      "metadata": {
        "id": "BARtd3OvBSjy"
      },
      "source": [
        "## importing libraries"
      ]
    },
    {
      "cell_type": "code",
      "metadata": {
        "id": "rOoimZvjBEzW"
      },
      "source": [
        "import tensorflow as tf\n",
        "from keras.models import Sequential\n",
        "from keras.layers import Conv2D, MaxPooling2D\n",
        "from keras.layers import Activation, Dropout, Flatten, Dense"
      ],
      "execution_count": 93,
      "outputs": []
    },
    {
      "cell_type": "markdown",
      "metadata": {
        "id": "dghwDTVby7Tp"
      },
      "source": [
        "### Training nueral network"
      ]
    },
    {
      "cell_type": "code",
      "metadata": {
        "id": "BKMG0VodkZYB"
      },
      "source": [
        "model = Sequential()\n",
        "model.add(Conv2D(32, (3, 3), input_shape=(150, 150,3)))\n",
        "model.add(Activation('relu'))\n",
        "model.add(MaxPooling2D(pool_size=(2, 2)))\n",
        "\n",
        "model.add(Conv2D(32, (3, 3)))\n",
        "model.add(Activation('relu'))\n",
        "model.add(MaxPooling2D(pool_size=(2, 2)))\n",
        "\n",
        "model.add(Conv2D(64, (3, 3)))\n",
        "model.add(Activation('relu'))\n",
        "model.add(MaxPooling2D(pool_size=(2, 2)))\n",
        "\n",
        "model.add(Flatten())\n",
        "model.add(Activation('relu'))\n",
        "model.add(Dropout(0.5))\n",
        "model.add(Dense(1))\n",
        "model.add(Activation('sigmoid'))"
      ],
      "execution_count": 102,
      "outputs": []
    },
    {
      "cell_type": "code",
      "metadata": {
        "id": "oGBzBcfTkZaj"
      },
      "source": [
        "inception_model = model.compile(loss='binary_crossentropy',\n",
        "              optimizer='rmsprop',\n",
        "              metrics=['accuracy'])"
      ],
      "execution_count": 103,
      "outputs": []
    },
    {
      "cell_type": "code",
      "metadata": {
        "colab": {
          "base_uri": "https://localhost:8080/"
        },
        "id": "nD_PV4RakZc-",
        "outputId": "1a88c9a4-d8b6-4909-9bf5-8a76e55f1c87"
      },
      "source": [
        "batch_size = 16\n",
        "\n",
        "from keras.preprocessing.image import ImageDataGenerator\n",
        "\n",
        "train_datagen = ImageDataGenerator(rescale=1./255,\n",
        "    shear_range=0.2,\n",
        "    zoom_range=0.2,\n",
        "    horizontal_flip=True,\n",
        "    validation_split=0.2)\n",
        "\n",
        "train_generator = train_datagen.flow_from_directory(\n",
        "    \"/content/mammuka-lalettan/train\",\n",
        "    target_size=(150,150),\n",
        "    batch_size=batch_size,\n",
        "    class_mode='binary',\n",
        "    subset='training')\n",
        "\n",
        "validation_generator = train_datagen.flow_from_directory(\n",
        "    \"/content/mammuka-lalettan/test\", \n",
        "    target_size=(150,150),\n",
        "    batch_size=batch_size,\n",
        "    class_mode='binary',\n",
        "    subset='validation') "
      ],
      "execution_count": 104,
      "outputs": [
        {
          "output_type": "stream",
          "text": [
            "Found 3222 images belonging to 2 classes.\n",
            "Found 205 images belonging to 2 classes.\n"
          ],
          "name": "stdout"
        }
      ]
    },
    {
      "cell_type": "code",
      "metadata": {
        "colab": {
          "base_uri": "https://localhost:8080/"
        },
        "id": "MvDwgfLxkZfo",
        "outputId": "bad775f1-8c27-4926-9148-333aa3c40469"
      },
      "source": [
        "history=model.fit_generator(\n",
        "    train_generator,\n",
        "    steps_per_epoch = train_generator.samples // batch_size,\n",
        "    validation_data = validation_generator, \n",
        "    validation_steps = validation_generator.samples // batch_size,\n",
        "    epochs = 20)"
      ],
      "execution_count": 105,
      "outputs": [
        {
          "output_type": "stream",
          "text": [
            "/usr/local/lib/python3.7/dist-packages/tensorflow/python/keras/engine/training.py:1844: UserWarning: `Model.fit_generator` is deprecated and will be removed in a future version. Please use `Model.fit`, which supports generators.\n",
            "  warnings.warn('`Model.fit_generator` is deprecated and '\n"
          ],
          "name": "stderr"
        },
        {
          "output_type": "stream",
          "text": [
            "Epoch 1/20\n",
            "201/201 [==============================] - 20s 96ms/step - loss: 0.7264 - accuracy: 0.5466 - val_loss: 0.6887 - val_accuracy: 0.5365\n",
            "Epoch 2/20\n",
            "201/201 [==============================] - 19s 96ms/step - loss: 0.6888 - accuracy: 0.5412 - val_loss: 0.6570 - val_accuracy: 0.6458\n",
            "Epoch 3/20\n",
            "201/201 [==============================] - 19s 94ms/step - loss: 0.6683 - accuracy: 0.6006 - val_loss: 0.6544 - val_accuracy: 0.5677\n",
            "Epoch 4/20\n",
            "201/201 [==============================] - 19s 94ms/step - loss: 0.6604 - accuracy: 0.6010 - val_loss: 0.6508 - val_accuracy: 0.6094\n",
            "Epoch 5/20\n",
            "201/201 [==============================] - 19s 94ms/step - loss: 0.6452 - accuracy: 0.6170 - val_loss: 0.6531 - val_accuracy: 0.6302\n",
            "Epoch 6/20\n",
            "201/201 [==============================] - 19s 95ms/step - loss: 0.6383 - accuracy: 0.6406 - val_loss: 0.6300 - val_accuracy: 0.6875\n",
            "Epoch 7/20\n",
            "201/201 [==============================] - 19s 95ms/step - loss: 0.6315 - accuracy: 0.6449 - val_loss: 0.7095 - val_accuracy: 0.5573\n",
            "Epoch 8/20\n",
            "201/201 [==============================] - 19s 94ms/step - loss: 0.6230 - accuracy: 0.6471 - val_loss: 0.6790 - val_accuracy: 0.6198\n",
            "Epoch 9/20\n",
            "201/201 [==============================] - 19s 94ms/step - loss: 0.6131 - accuracy: 0.6750 - val_loss: 0.6319 - val_accuracy: 0.6250\n",
            "Epoch 10/20\n",
            "201/201 [==============================] - 19s 95ms/step - loss: 0.5946 - accuracy: 0.6883 - val_loss: 0.6175 - val_accuracy: 0.6562\n",
            "Epoch 11/20\n",
            "201/201 [==============================] - 19s 95ms/step - loss: 0.5814 - accuracy: 0.6905 - val_loss: 0.6563 - val_accuracy: 0.5990\n",
            "Epoch 12/20\n",
            "201/201 [==============================] - 19s 94ms/step - loss: 0.5810 - accuracy: 0.6982 - val_loss: 0.6738 - val_accuracy: 0.6042\n",
            "Epoch 13/20\n",
            "201/201 [==============================] - 19s 95ms/step - loss: 0.5733 - accuracy: 0.6971 - val_loss: 0.6512 - val_accuracy: 0.5729\n",
            "Epoch 14/20\n",
            "201/201 [==============================] - 19s 94ms/step - loss: 0.5770 - accuracy: 0.6915 - val_loss: 0.5988 - val_accuracy: 0.6354\n",
            "Epoch 15/20\n",
            "201/201 [==============================] - 19s 95ms/step - loss: 0.5466 - accuracy: 0.7264 - val_loss: 0.6462 - val_accuracy: 0.6198\n",
            "Epoch 16/20\n",
            "201/201 [==============================] - 19s 94ms/step - loss: 0.5574 - accuracy: 0.7162 - val_loss: 0.6580 - val_accuracy: 0.6510\n",
            "Epoch 17/20\n",
            "201/201 [==============================] - 19s 94ms/step - loss: 0.5337 - accuracy: 0.7235 - val_loss: 0.5823 - val_accuracy: 0.6823\n",
            "Epoch 18/20\n",
            "201/201 [==============================] - 19s 94ms/step - loss: 0.5320 - accuracy: 0.7230 - val_loss: 0.6015 - val_accuracy: 0.6458\n",
            "Epoch 19/20\n",
            "201/201 [==============================] - 19s 95ms/step - loss: 0.5105 - accuracy: 0.7562 - val_loss: 0.6088 - val_accuracy: 0.6771\n",
            "Epoch 20/20\n",
            "201/201 [==============================] - 19s 94ms/step - loss: 0.5193 - accuracy: 0.7486 - val_loss: 0.5836 - val_accuracy: 0.6406\n"
          ],
          "name": "stdout"
        }
      ]
    },
    {
      "cell_type": "markdown",
      "metadata": {
        "id": "h7ulj2jHToHR"
      },
      "source": [
        "## Evaluating the Mobilenet model"
      ]
    },
    {
      "cell_type": "code",
      "metadata": {
        "colab": {
          "base_uri": "https://localhost:8080/",
          "height": 573
        },
        "id": "m_Zeowd0Tegp",
        "outputId": "5834cf6f-e33e-4d3e-d656-3f354b7fa3c2"
      },
      "source": [
        "import matplotlib.pyplot as plt\n",
        "%matplotlib inline\n",
        "# Plot training & validation accuracy values\n",
        "plt.plot(history.history['accuracy'])\n",
        "plt.plot(history.history['val_accuracy'])\n",
        "plt.title(' Model accuracy')\n",
        "plt.ylabel('Accuracy')\n",
        "plt.xlabel('Epoch')\n",
        "plt.legend(['Train', 'Test'], loc='upper left')\n",
        "plt.savefig('Accuracy.png', dpi=300, bbox_inches='tight')\n",
        "plt.show()\n",
        "\n",
        "# Plot training & validation loss values\n",
        "plt.plot(history.history['loss'])\n",
        "plt.plot(history.history['val_loss'])\n",
        "plt.title(' Model loss')\n",
        "plt.ylabel('Loss')\n",
        "plt.xlabel('Epoch')\n",
        "plt.legend(['Train', 'Test'], loc='upper left')\n",
        "plt.savefig('Loss.png', dpi=300, bbox_inches='tight')\n",
        "plt.show()"
      ],
      "execution_count": 123,
      "outputs": [
        {
          "output_type": "display_data",
          "data": {
            "image/png": "[encoded data removed]",
            "text/plain": [
              "<Figure size 432x288 with 1 Axes>"
            ]
          },
          "metadata": {
            "tags": [],
            "needs_background": "light"
          }
        },
        {
          "output_type": "display_data",
          "data": {
            "image/png": "[encoded data removed]",
            "text/plain": [
              "<Figure size 432x288 with 1 Axes>"
            ]
          },
          "metadata": {
            "tags": [],
            "needs_background": "light"
          }
        }
      ]
    },
    {
      "cell_type": "markdown",
      "metadata": {
        "id": "uaJGaTMdT7Z_"
      },
      "source": [
        "## saving the model"
      ]
    },
    {
      "cell_type": "code",
      "metadata": {
        "id": "H7atmwoFQwRk"
      },
      "source": [
        "# model.save\n",
        "\n",
        "from tensorflow.keras.models import load_model\n",
        "\n",
        "model.save('inceptionv3.h5')"
      ],
      "execution_count": 120,
      "outputs": []
    },
    {
      "cell_type": "markdown",
      "metadata": {
        "id": "mlPP49wcvkLG"
      },
      "source": [
        "## Testing Detection"
      ]
    },
    {
      "cell_type": "code",
      "metadata": {
        "id": "crOqMxHsvatR"
      },
      "source": [
        "import cv2\n",
        "import tensorflow as tf\n",
        "def prepare(filepath):\n",
        "    img_array = cv2.imread(filepath, cv2.IMREAD_COLOR)\n",
        "    img_array = img_array / 255\n",
        "    new_array = cv2.resize(img_array, (224, 224))\n",
        "    return new_array.reshape(-1, 224, 224, 3)\n",
        "\n",
        "model = tf.keras.models.load_model(\"inceptionv3.model\")"
      ],
      "execution_count": null,
      "outputs": []
    },
    {
      "cell_type": "code",
      "metadata": {
        "id": "Owtj8jzgvbPR"
      },
      "source": [
        "prediction = model.predict([prepare(\"/conent/mamuka.jpg\")])\n",
        "np.argmax(prediction)"
      ],
      "execution_count": null,
      "outputs": []
    },
    {
      "cell_type": "markdown",
      "metadata": {
        "id": "CS-GbgoUFQGg"
      },
      "source": [
        "## Converting .h5 to TFLite model\n"
      ]
    },
    {
      "cell_type": "code",
      "metadata": {
        "colab": {
          "base_uri": "https://localhost:8080/"
        },
        "id": "yQWHrBBbQqOJ",
        "outputId": "cc930754-0128-46ae-db4b-966381dcb3bb"
      },
      "source": [
        "# inceptionv3 model\n",
        "\n",
        "keras_model= tf.keras.models.load_model(filepath=\"/content/mammuka-lalettan/test/inceptionv3.h5\")\n",
        "\n",
        "tflite_converter = tf.lite.TFLiteConverter.from_keras_model(keras_model)\n",
        "tflite_model = tflite_converter.convert()\n",
        "open(\"inceptionv3.tflite\", \"wb\").write(tflite_model)"
      ],
      "execution_count": 121,
      "outputs": [
        {
          "output_type": "stream",
          "text": [
            "INFO:tensorflow:Assets written to: /tmp/tmp87vzlneo/assets\n"
          ],
          "name": "stdout"
        },
        {
          "output_type": "execute_result",
          "data": {
            "text/plain": [
              "192148"
            ]
          },
          "metadata": {
            "tags": []
          },
          "execution_count": 121
        }
      ]
    }
  ]
}